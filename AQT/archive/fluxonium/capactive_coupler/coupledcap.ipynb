{
 "cells": [
  {
   "cell_type": "markdown",
   "metadata": {
    "vscode": {
     "languageId": "plaintext"
    }
   },
   "source": [
    "#### Function to build a capacitive coupler for many qubits"
   ]
  },
  {
   "cell_type": "code",
   "execution_count": 1,
   "metadata": {},
   "outputs": [],
   "source": [
    "import numpy as np \n",
    "import gdspy\n",
    "from qnldraw import plot "
   ]
  },
  {
   "cell_type": "markdown",
   "metadata": {},
   "source": [
    "<img src=\"coupledcap_params.png\" width=400 height=400 />"
   ]
  },
  {
   "cell_type": "code",
   "execution_count": 16,
   "metadata": {},
   "outputs": [
    {
     "data": {
      "image/png": "[encoded data removed]",
      "text/plain": [
       "<Figure size 500x500 with 1 Axes>"
      ]
     },
     "metadata": {},
     "output_type": "display_data"
    }
   ],
   "source": [
    "class MultiCoupler: \n",
    "    def __init__(self, xy, lx, ly, middle_gap, pad_gap, side_gap): \n",
    "\n",
    "        \"\"\"\n",
    "        Creates a diagonal-cross capacitive coupler design with customizable gaps and widths\n",
    "\n",
    "        Parameters: \n",
    "        -----------\n",
    "        xy (tuple): the center of the capacitive coupler\n",
    "        lx (float): the diagonal-width of an electrode\n",
    "        ly (float): the diagonal_length of half an electrode\n",
    "\n",
    "        middle_gap (float): horizontal separation between electrodes\n",
    "        pad_gap (float):    vertical padding between edges of bounding \n",
    "                            box and closest ends of the coupler\n",
    "        side_gap (float):   horizontal padding between edges of bounding\n",
    "                            box and middle corners of the coupler\n",
    "\n",
    "        \"\"\"\n",
    "\n",
    "        self.xy = xy\n",
    "        self.lx = lx\n",
    "        self.ly = ly\n",
    "        self.middle_gap = middle_gap\n",
    "        self.pad_gap = pad_gap\n",
    "        self.side_gap = side_gap \n",
    "\n",
    "    def rectangle_quadrant(self): \n",
    "        ## define top-left quadrant of coupler ##\n",
    "        # counter clockwise rotation\n",
    "        dx = (self.lx + self.ly) / (2 * np.sqrt(2)) + self.middle_gap/2\n",
    "        dy = (self.ly - self.lx) / (2 * np.sqrt(2)) \n",
    "        def rotation(x, y, angle=np.pi/4): \n",
    "            x_rot = x * np.cos(angle) - y * np.sin(angle)\n",
    "            y_rot = x * np.cos(angle) + y * np.sin(angle)\n",
    "            return x_rot-dx, y_rot+dy\n",
    "        \n",
    "        x_center, y_center = self.xy\n",
    "        rect_points = [\n",
    "            (x_center - self.lx / 2, y_center - self.ly / 2),  # bottom-left\n",
    "            (x_center + self.lx / 2, y_center - self.ly / 2),  # bottom-right\n",
    "            (x_center + self.lx / 2, y_center + self.ly / 2),  # top-right\n",
    "            (x_center - self.lx / 2, y_center + self.ly / 2)   # top-left\n",
    "        ]\n",
    "        # translate points to the origin\n",
    "        translated_points = [(x - x_center, y - y_center) for x, y in rect_points]\n",
    "        # rotate points\n",
    "        rotated_points = [rotation(x, y) for x, y in translated_points]\n",
    "        # translate points back\n",
    "        translated_points = [(x + x_center, y + y_center) for x, y in rotated_points]\n",
    "\n",
    "        max_point = max(translated_points, key=lambda point: point[0])\n",
    "        pivot = (max_point[0]-self.lx/2, max_point[1])\n",
    "\n",
    "        return gdspy.Polygon(translated_points).fillet(radius=[1]), pivot\n",
    "    \n",
    "    def symmetric_coupler(self): \n",
    "        ## use symmetry to define all four quadrants ##\n",
    "        upper_left_quad, pivot = self.rectangle_quadrant()\n",
    "        upper_right_quad = gdspy.copy(upper_left_quad).mirror(self.xy, [self.xy[0], self.xy[1]+1])\n",
    "        bottom_left_quad = gdspy.copy(upper_left_quad).mirror(pivot, [pivot[0]-1, pivot[1]])\n",
    "        bottom_right_quad = gdspy.copy(bottom_left_quad).mirror(self.xy, [self.xy[0], self.xy[1]+1])\n",
    "\n",
    "        full_shape = gdspy.boolean([upper_left_quad,\n",
    "                                    bottom_left_quad, \n",
    "                                    upper_right_quad, \n",
    "                                    bottom_right_quad], None, 'or')\n",
    "        return full_shape\n",
    "    \n",
    "    def bounding_box(self):\n",
    "        ## create bounding box based on provided gaps ##  \n",
    "        full_shape = self.symmetric_coupler() \n",
    "        bbox = full_shape.get_bounding_box() \n",
    "        min_x, max_x = bbox[:, 0].min(), bbox[:, 0].max()\n",
    "        min_y, max_y = bbox[:, 1].min(), bbox[:, 1].max()\n",
    "\n",
    "        bottom_corner = ( \n",
    "            min_x + (self.ly - self.lx)/np.sqrt(2) - self.side_gap, \n",
    "            min_y - self.pad_gap\n",
    "        )\n",
    "        top_corner = (\n",
    "            max_x - (self.ly - self.lx)/np.sqrt(2) + self.side_gap, \n",
    "            max_y + self.pad_gap\n",
    "        )\n",
    "\n",
    "        # mounting pad \n",
    "        encapsulating_rec = gdspy.Rectangle(bottom_corner, top_corner)\n",
    "        cutout = gdspy.boolean(\n",
    "            encapsulating_rec,\n",
    "            full_shape, \n",
    "            operation='not'\n",
    "        )\n",
    "\n",
    "        return cutout\n",
    "    \n",
    "xy = (0,0)\n",
    "lx, ly = 5, 40\n",
    "middle_gap, pad_gap, side_gap = 20, 20, 40\n",
    "\n",
    "class_ = MultiCoupler(xy=xy, \n",
    "                      lx=lx, ly=ly, \n",
    "                      middle_gap=middle_gap, pad_gap=pad_gap, side_gap=side_gap)\n",
    "bbox = class_.bounding_box()\n",
    "fig = plot(bbox)\n",
    "\n",
    "gdspy.current_library = gdspy.GdsLibrary()\n",
    "\n",
    "cell = gdspy.current_library.new_cell('COUPLER')\n",
    "cell.add(bbox)\n",
    "\n",
    "# export to gds\n",
    "gdspy.current_library.write_gds('coupled_cap.gds');"
   ]
  },
  {
   "cell_type": "markdown",
   "metadata": {},
   "source": [
    "- make josephson array parameters into a class with adjustable parameters for all circuit components\n",
    "- thickness of electrode and lower electrode w/ controllable thickness. make lowest two arrays just one box. \n",
    "- fluxonium-check1-0.gds, have undercut along the electrode, but not on the lower triangle. \n"
   ]
  }
 ],
 "metadata": {
  "kernelspec": {
   "display_name": "base",
   "language": "python",
   "name": "python3"
  },
  "language_info": {
   "codemirror_mode": {
    "name": "ipython",
    "version": 3
   },
   "file_extension": ".py",
   "mimetype": "text/x-python",
   "name": "python",
   "nbconvert_exporter": "python",
   "pygments_lexer": "ipython3",
   "version": "3.12.2"
  }
 },
 "nbformat": 4,
 "nbformat_minor": 2
}
